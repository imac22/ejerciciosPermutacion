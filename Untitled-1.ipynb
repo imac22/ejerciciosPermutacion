{
 "cells": [
  {
   "cell_type": "markdown",
   "metadata": {},
   "source": [
    "# Ejercicio 9\n",
    "Los números telefónicos en la ciudad de Cuernavaca, Morelos, constan de siete dígitos\n",
    "\n",
    "**a)** ¿Cuántas líneas telefónicas pueden crearse en esa ciudad? Recuerda que no pueden comen\n",
    "zar con cero.\n",
    "\n",
    "**b)** Si los tres primeros dígitos representan una zona de Cuernavaca, ¿cuántas líneas telefónicas pertenecen a la zona 326?"
   ]
  },
  {
   "cell_type": "markdown",
   "metadata": {},
   "source": [
    "# Ejercicio \n",
    "Se tiene la palabra MURCIÉLAGO. Si no se permiten repeticiones al usar las letras que la forman, determina:\n",
    "\n",
    "**a)** El número de palabras que puedes crear.\n",
    "\n",
    "**b)** El número de palabras con cinco letras.\n",
    "\n",
    "**c)** La probabilidad de que una palabra de cinco letras termine en vocal"
   ]
  },
  {
   "cell_type": "markdown",
   "metadata": {},
   "source": [
    "# Ejercicio 11\n",
    " La Ciudad de México tiene placas de automóviles con tres números seguidos por tres letras, es decir, son placas del tipo 999-AAA. Sin embargo, no pueden empezar con 0 (cero) ni se utilizan las letras I, O, Q y Ñ.\n",
    "\n",
    "**a)** ¿Cuántas placas diferentes son posibles?\n",
    "**b)** ¿Cuántas placas diferentes terminan en vocal?\n",
    "**c)** ¿Cuál es la probabilidad de que una placa, elegida al azar, sea impar?\n"
   ]
  },
  {
   "cell_type": "markdown",
   "metadata": {},
   "source": [
    "# Ejercicio 12"
   ]
  },
  {
   "cell_type": "markdown",
   "metadata": {},
   "source": [
    "# Ejercicio 13"
   ]
  },
  {
   "cell_type": "markdown",
   "metadata": {},
   "source": [
    "# Ejercicio 14"
   ]
  },
  {
   "cell_type": "markdown",
   "metadata": {},
   "source": [
    "# Ejercicio 15"
   ]
  },
  {
   "cell_type": "markdown",
   "metadata": {},
   "source": [
    "# Ejercicio 16\n",
    "En un grupo de 25 alumnos hay 13 chicas y 12 chicos. Se desean formar equipos de trabajo para realizar una investigación\n",
    "\n",
    "**a)** ¿Cuántos equipos de cinco personas pueden formarse?\n",
    "\n",
    "**b)** ¿Cuántos equipos pueden formarse si debe haber una chica?\n",
    "\n",
    "**c)** ¿Cuántos equipos pueden formarse si debe haber dos chicas?\n",
    "\n",
    "**d)** Determina las probabilidades correspondientes a los incisos anteriores"
   ]
  },
  {
   "cell_type": "code",
   "execution_count": 11,
   "metadata": {},
   "outputs": [
    {
     "name": "stdout",
     "output_type": "stream",
     "text": [
      "a = 53130\n",
      "b = 8580\n",
      "c = 18876\n",
      "d = 0.16149068322981366 , 0.3552795031055901\n"
     ]
    }
   ],
   "source": [
    "import math\n",
    "\n",
    "n = 25\n",
    "b = 13\n",
    "g = 12\n",
    "\n",
    "k = 5\n",
    "# a) ¿Cuántos equipos de cinco personas pueden formarse?\n",
    "equipos = math.comb(n, k)\n",
    "\n",
    "k_chica= 1\n",
    "k_chicos = 4\n",
    "# b) ¿Cuántos equipos pueden formarse si debe haber una chica?\n",
    "una_chica = math.comb(g, k_chica) * math.comb(b, k_chicos)\n",
    "\n",
    "k_chica2 = 2\n",
    "k_chicos2 = 3\n",
    "# c) ¿Cuántos equipos pueden formarse si debe haber dos chicas?\n",
    "dos_chicas = math.comb(g, k_chica2) * math.comb(b, k_chicos2)\n",
    "\n",
    "# d) Determina las probabilidades correspondientes a los incisos anteriores.\n",
    "p_una = una_chica / equipos\n",
    "p_dos = dos_chicas / equipos\n",
    "\n",
    "print(f\"a = {equipos}\")\n",
    "print(f\"b = {una_chica}\")\n",
    "print(f\"c = {dos_chicas}\")\n",
    "print(f\"d = {p_una} , {p_dos}\")"
   ]
  },
  {
   "cell_type": "markdown",
   "metadata": {},
   "source": [
    "# Ejercicio 17\n",
    " Se tiene una caja con 24 latas y se sabe que dos están contaminadas. Se van a seleccionar tres latas al azar para someterlas a una prueba de control de calidad, es decir, para \n",
    "medir los estándares de calidad de la empresa\n",
    "\n",
    "**a)** ¿Cuántas combinaciones de tres latas pueden hacerse?\n",
    "\n",
    "**b)** ¿Cuál es la probabilidad de que se seleccione una lata contaminada para la prueba?\n",
    "\n",
    "**c)** ¿Cuál es la probabilidad de que se seleccione al menos una lata contaminada para la prueba?\n",
    "\n",
    "**d)** ¿Y la probabilidad de que no se elijan latas contaminadas para la prueba?"
   ]
  },
  {
   "cell_type": "code",
   "execution_count": 5,
   "metadata": {},
   "outputs": [
    {
     "name": "stdout",
     "output_type": "stream",
     "text": [
      "a = 2024\n",
      "b = 0.22826086956521738\n",
      "c = 0.23913043478260865\n",
      "d = 0.7608695652173914\n"
     ]
    }
   ],
   "source": [
    "import math\n",
    "\n",
    "n = 24\n",
    "k = 3\n",
    "\n",
    "# a) ¿Cuántas combinaciones de tres latas pueden hacerse\n",
    "combinaciones = math.comb(n, k)\n",
    "\n",
    "# Cuál es la probabilidad de que se seleccione una lata contaminada para la prueba?\n",
    "contaminada = (math.comb(2, 1) * math.comb(22, 2)) / combinaciones\n",
    "\n",
    "# ¿Cuál es la probabilidad de que se seleccione una lata contaminada para la prueba?\n",
    "una_contami = 1 - (math.comb(22, 3) / combinaciones)\n",
    "\n",
    "# d) Probabilidad de ninguna lata contaminada\n",
    "ninguna = math.comb(22, 3) / combinaciones\n",
    "\n",
    "print(f\"a = {combinaciones}\")\n",
    "print(f\"b = {contaminada}\")\n",
    "print(f\"c = {una_contami}\")\n",
    "print(f\"d = {ninguna}\")"
   ]
  }
 ],
 "metadata": {
  "kernelspec": {
   "display_name": "Python 3",
   "language": "python",
   "name": "python3"
  },
  "language_info": {
   "codemirror_mode": {
    "name": "ipython",
    "version": 3
   },
   "file_extension": ".py",
   "mimetype": "text/x-python",
   "name": "python",
   "nbconvert_exporter": "python",
   "pygments_lexer": "ipython3",
   "version": "3.12.4"
  }
 },
 "nbformat": 4,
 "nbformat_minor": 2
}
